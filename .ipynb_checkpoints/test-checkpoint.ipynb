{
 "cells": [
  {
   "cell_type": "markdown",
   "id": "7905ef5a",
   "metadata": {},
   "source": [
    "## Ex. No: 03  \n",
    "## Histogram of an Images \n",
    "\n",
    "**Name:** Krishna Prasad S    \n",
    "**Reg. No:** 212223230108\n"
   ]
  },
  {
   "cell_type": "code",
   "execution_count": null,
   "id": "dc7eb703",
   "metadata": {
    "vscode": {
     "languageId": "plaintext"
    }
   },
   "outputs": [],
   "source": []
  }
 ],
 "metadata": {
  "language_info": {
   "name": "python"
  }
 },
 "nbformat": 4,
 "nbformat_minor": 5
}
